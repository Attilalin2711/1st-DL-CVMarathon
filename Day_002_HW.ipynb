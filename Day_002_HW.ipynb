{
 "cells": [
  {
   "cell_type": "markdown",
   "metadata": {},
   "source": [
    "## [作業目標]\n",
    "了解機器學習適合應用的領域與範疇。"
   ]
  },
  {
   "cell_type": "markdown",
   "metadata": {},
   "source": [
    "## [作業重點]\n",
    "透過瞭解機器學習的運作方式，找出非常適用機器學習應用的領域及其原因"
   ]
  },
  {
   "cell_type": "markdown",
   "metadata": {
    "pycharm": {
     "name": "#%% md\n"
    }
   },
   "source": [
    "## 作業\n",
    "請找出一個你認為機器學習可以發光發熱的領域並闡述原因? \n",
    "醫學影像中，X光和超音波屬於初階檢查，這兩類檢查的拍攝門檻不高\n",
    "，因此累積出大量、各式各樣的影像資料，滿足訓練AI模型的先決條件。\n",
    "機器學習應用主要可協助臨床人員從訊息含量大的影像中，\n",
    "找出肉眼難以發現或容易忽略的初期病徵。例如\n",
    "吳恩達的團隊所設計的CheXNet模型，\n",
    "以121層卷積神經網路（CNN）架構和美國國衛院釋出的胸腔X光資料集訓練而成，\n",
    "就可以做到早期偵測來輔助醫生診斷。\n",
    "中國附醫所開發的乳癌超音波AI輔助分類系統，\n",
    "利用4萬多筆超音波影像和深度學習Xception架構打造而成，\n",
    "能在人眼難以判斷的初期階段即可偵測出腫瘤\n",
    "\n",
    "   "
   ]
  }
 ],
 "metadata": {
  "kernelspec": {
   "display_name": "Python 3",
   "language": "python",
   "name": "python3"
  },
  "language_info": {
   "codemirror_mode": {
    "name": "ipython",
    "version": 3
   },
   "file_extension": ".py",
   "mimetype": "text/x-python",
   "name": "python",
   "nbconvert_exporter": "python",
   "pygments_lexer": "ipython3",
   "version": "3.6.6"
  }
 },
 "nbformat": 4,
 "nbformat_minor": 2
}